{
 "cells": [
  {
   "cell_type": "markdown",
   "execution_count": null,
   "metadata": {},
   "source": [
    "# Membaca dataset Loan Disbursement"
   ]
  },
  {
   "cell_type": "code",
   "execution_count": 1,
   "metadata": {
    "_execution_state": "idle",
    "_uuid": "051d70d956493feee0c6d64651c6a088724dca2a"
   },
   "outputs": [
    {
     "name": "stderr",
     "output_type": "stream",
     "text": [
      "\n",
      "Attaching package: ‘dplyr’\n",
      "\n",
      "\n",
      "The following objects are masked from ‘package:stats’:\n",
      "\n",
      "    filter, lag\n",
      "\n",
      "\n",
      "The following objects are masked from ‘package:base’:\n",
      "\n",
      "    intersect, setdiff, setequal, union\n",
      "\n",
      "\n"
     ]
    },
    {
     "name": "stdout",
     "output_type": "stream",
     "text": [
      "Rows: 9,754\n",
      "Columns: 5\n",
      "$ loan_id      \u001b[3m\u001b[38;5;246m<int>\u001b[39m\u001b[23m 1, 2, 3, 4, 5, 6, 7, 8, 9, 10, 11, 12, 13, 14, 15, 16, 1…\n",
      "$ tanggal_cair \u001b[3m\u001b[38;5;246m<chr>\u001b[39m\u001b[23m \"2020-01-06\", \"2020-01-06\", \"2020-01-06\", \"2020-01-06\", …\n",
      "$ cabang       \u001b[3m\u001b[38;5;246m<chr>\u001b[39m\u001b[23m \"AA\", \"AA\", \"AA\", \"AA\", \"AA\", \"AA\", \"AB\", \"AB\", \"AB\", \"A…\n",
      "$ agen         \u001b[3m\u001b[38;5;246m<chr>\u001b[39m\u001b[23m \"AA-1\", \"AA-1\", \"AA-1\", \"AA-2\", \"AA-2\", \"AA-2\", \"AB-1\", …\n",
      "$ amount       \u001b[3m\u001b[38;5;246m<int>\u001b[39m\u001b[23m 320000, 440000, 200000, 430000, 360000, 220000, 320000, …\n"
     ]
    }
   ],
   "source": [
    "#Package untuk membantu dalam manipulasi data\n",
    "library(dplyr)\n",
    "#Package untuk memformat value data numerik dalam eksplorasi data \n",
    "library(scales)\n",
    "#Package yang digunakan untuk membuat plot\n",
    "library(ggplot2)\n",
    "#Membaca dataset .csv disimpan di df_loan\n",
    "#stringsAsFactors berfungsi untuk data bertipe character tidak diubah menjadi factor\n",
    "df_loan <- read.csv(\"../input/loan-disbursement/loan_disbursement.csv\", stringsAsFactors = F)\n",
    "#Menampilkan rangkuman data df_loan\n",
    "glimpse(df_loan)"
   ]
  },
  {
   "cell_type": "markdown",
   "execution_count": null,
   "metadata": {},
   "source": [
    "# Memfilter Jumlah Data per Cabang di Bulan Mei 2020"
   ]
  },
  {
   "cell_type": "code",
   "execution_count": 2,
   "metadata": {},
   "outputs": [
    {
     "name": "stderr",
     "output_type": "stream",
     "text": [
      "`summarise()` ungrouping output (override with `.groups` argument)\n",
      "\n"
     ]
    },
    {
     "data": {
      "text/html": [
       "<table class=\"dataframe\">\n",
       "<caption>A tibble: 22 × 2</caption>\n",
       "<thead>\n",
       "\t<tr><th scope=col>cabang</th><th scope=col>total_amount</th></tr>\n",
       "\t<tr><th scope=col>&lt;chr&gt;</th><th scope=col>&lt;int&gt;</th></tr>\n",
       "</thead>\n",
       "<tbody>\n",
       "\t<tr><td>AA</td><td>75710000</td></tr>\n",
       "\t<tr><td>AB</td><td>81440000</td></tr>\n",
       "\t<tr><td>AC</td><td>83990000</td></tr>\n",
       "\t<tr><td>AD</td><td>76080000</td></tr>\n",
       "\t<tr><td>AE</td><td>54200000</td></tr>\n",
       "\t<tr><td>AF</td><td>68040000</td></tr>\n",
       "\t<tr><td>AG</td><td>74080000</td></tr>\n",
       "\t<tr><td>AH</td><td>73840000</td></tr>\n",
       "\t<tr><td>AI</td><td>46640000</td></tr>\n",
       "\t<tr><td>AJ</td><td>43580000</td></tr>\n",
       "\t<tr><td>AK</td><td>44590000</td></tr>\n",
       "\t<tr><td>AL</td><td>40650000</td></tr>\n",
       "\t<tr><td>AM</td><td>44010000</td></tr>\n",
       "\t<tr><td>AN</td><td>39700000</td></tr>\n",
       "\t<tr><td>AO</td><td>39120000</td></tr>\n",
       "\t<tr><td>AP</td><td>44740000</td></tr>\n",
       "\t<tr><td>AQ</td><td>39190000</td></tr>\n",
       "\t<tr><td>AR</td><td>44230000</td></tr>\n",
       "\t<tr><td>AS</td><td>31740000</td></tr>\n",
       "\t<tr><td>AT</td><td>34840000</td></tr>\n",
       "\t<tr><td>AU</td><td>35610000</td></tr>\n",
       "\t<tr><td>AV</td><td>30280000</td></tr>\n",
       "</tbody>\n",
       "</table>\n"
      ],
      "text/latex": [
       "A tibble: 22 × 2\n",
       "\\begin{tabular}{ll}\n",
       " cabang & total\\_amount\\\\\n",
       " <chr> & <int>\\\\\n",
       "\\hline\n",
       "\t AA & 75710000\\\\\n",
       "\t AB & 81440000\\\\\n",
       "\t AC & 83990000\\\\\n",
       "\t AD & 76080000\\\\\n",
       "\t AE & 54200000\\\\\n",
       "\t AF & 68040000\\\\\n",
       "\t AG & 74080000\\\\\n",
       "\t AH & 73840000\\\\\n",
       "\t AI & 46640000\\\\\n",
       "\t AJ & 43580000\\\\\n",
       "\t AK & 44590000\\\\\n",
       "\t AL & 40650000\\\\\n",
       "\t AM & 44010000\\\\\n",
       "\t AN & 39700000\\\\\n",
       "\t AO & 39120000\\\\\n",
       "\t AP & 44740000\\\\\n",
       "\t AQ & 39190000\\\\\n",
       "\t AR & 44230000\\\\\n",
       "\t AS & 31740000\\\\\n",
       "\t AT & 34840000\\\\\n",
       "\t AU & 35610000\\\\\n",
       "\t AV & 30280000\\\\\n",
       "\\end{tabular}\n"
      ],
      "text/markdown": [
       "\n",
       "A tibble: 22 × 2\n",
       "\n",
       "| cabang &lt;chr&gt; | total_amount &lt;int&gt; |\n",
       "|---|---|\n",
       "| AA | 75710000 |\n",
       "| AB | 81440000 |\n",
       "| AC | 83990000 |\n",
       "| AD | 76080000 |\n",
       "| AE | 54200000 |\n",
       "| AF | 68040000 |\n",
       "| AG | 74080000 |\n",
       "| AH | 73840000 |\n",
       "| AI | 46640000 |\n",
       "| AJ | 43580000 |\n",
       "| AK | 44590000 |\n",
       "| AL | 40650000 |\n",
       "| AM | 44010000 |\n",
       "| AN | 39700000 |\n",
       "| AO | 39120000 |\n",
       "| AP | 44740000 |\n",
       "| AQ | 39190000 |\n",
       "| AR | 44230000 |\n",
       "| AS | 31740000 |\n",
       "| AT | 34840000 |\n",
       "| AU | 35610000 |\n",
       "| AV | 30280000 |\n",
       "\n"
      ],
      "text/plain": [
       "   cabang total_amount\n",
       "1  AA     75710000    \n",
       "2  AB     81440000    \n",
       "3  AC     83990000    \n",
       "4  AD     76080000    \n",
       "5  AE     54200000    \n",
       "6  AF     68040000    \n",
       "7  AG     74080000    \n",
       "8  AH     73840000    \n",
       "9  AI     46640000    \n",
       "10 AJ     43580000    \n",
       "11 AK     44590000    \n",
       "12 AL     40650000    \n",
       "13 AM     44010000    \n",
       "14 AN     39700000    \n",
       "15 AO     39120000    \n",
       "16 AP     44740000    \n",
       "17 AQ     39190000    \n",
       "18 AR     44230000    \n",
       "19 AS     31740000    \n",
       "20 AT     34840000    \n",
       "21 AU     35610000    \n",
       "22 AV     30280000    "
      ]
     },
     "metadata": {},
     "output_type": "display_data"
    }
   ],
   "source": [
    "df_loan_mei <- df_loan %>% \n",
    "    #Memfilter data untuk bulan Mei 2020\n",
    "    filter(tanggal_cair >='2020-05-01', tanggal_cair <= '2020-05-31') %>% \n",
    "    #group berdasarkan cabang\n",
    "    group_by(cabang) %>% \n",
    "    #Fungsi summarise menghitung total amount masing - masing cabang\n",
    "    summarise(total_amount = sum(amount)) \n",
    "\n",
    "df_loan_mei"
   ]
  },
  {
   "cell_type": "markdown",
   "execution_count": null,
   "metadata": {},
   "source": [
    "# Menampilkan Data 5 Cabang dengan Total Amount Paling Besar"
   ]
  },
  {
   "cell_type": "code",
   "execution_count": 3,
   "metadata": {},
   "outputs": [
    {
     "data": {
      "text/html": [
       "<table class=\"dataframe\">\n",
       "<caption>A tibble: 5 × 2</caption>\n",
       "<thead>\n",
       "\t<tr><th scope=col>cabang</th><th scope=col>total_amount</th></tr>\n",
       "\t<tr><th scope=col>&lt;chr&gt;</th><th scope=col>&lt;chr&gt;</th></tr>\n",
       "</thead>\n",
       "<tbody>\n",
       "\t<tr><td>AC</td><td>83,990,000</td></tr>\n",
       "\t<tr><td>AB</td><td>81,440,000</td></tr>\n",
       "\t<tr><td>AD</td><td>76,080,000</td></tr>\n",
       "\t<tr><td>AA</td><td>75,710,000</td></tr>\n",
       "\t<tr><td>AG</td><td>74,080,000</td></tr>\n",
       "</tbody>\n",
       "</table>\n"
      ],
      "text/latex": [
       "A tibble: 5 × 2\n",
       "\\begin{tabular}{ll}\n",
       " cabang & total\\_amount\\\\\n",
       " <chr> & <chr>\\\\\n",
       "\\hline\n",
       "\t AC & 83,990,000\\\\\n",
       "\t AB & 81,440,000\\\\\n",
       "\t AD & 76,080,000\\\\\n",
       "\t AA & 75,710,000\\\\\n",
       "\t AG & 74,080,000\\\\\n",
       "\\end{tabular}\n"
      ],
      "text/markdown": [
       "\n",
       "A tibble: 5 × 2\n",
       "\n",
       "| cabang &lt;chr&gt; | total_amount &lt;chr&gt; |\n",
       "|---|---|\n",
       "| AC | 83,990,000 |\n",
       "| AB | 81,440,000 |\n",
       "| AD | 76,080,000 |\n",
       "| AA | 75,710,000 |\n",
       "| AG | 74,080,000 |\n",
       "\n"
      ],
      "text/plain": [
       "  cabang total_amount\n",
       "1 AC     83,990,000  \n",
       "2 AB     81,440,000  \n",
       "3 AD     76,080,000  \n",
       "4 AA     75,710,000  \n",
       "5 AG     74,080,000  "
      ]
     },
     "metadata": {},
     "output_type": "display_data"
    }
   ],
   "source": [
    "#Mengurutkan data total amount dari yang terbesar (Desc) dengan fungsi arrange\n",
    "df_loan_mei %>% arrange(desc(total_amount)) %>% \n",
    "    #menampilkan total amount dalam format comma\n",
    "    mutate(total_amount = comma(total_amount)) %>% \n",
    "    #menampilkan 5 data teratas\n",
    "    head(5)"
   ]
  },
  {
   "cell_type": "markdown",
   "execution_count": null,
   "metadata": {},
   "source": [
    "# Menampilkan Data 5 Cabang dengan Total Amount Paling Kecil"
   ]
  },
  {
   "cell_type": "code",
   "execution_count": 4,
   "metadata": {},
   "outputs": [
    {
     "data": {
      "text/html": [
       "<table class=\"dataframe\">\n",
       "<caption>A tibble: 5 × 2</caption>\n",
       "<thead>\n",
       "\t<tr><th scope=col>cabang</th><th scope=col>total_amount</th></tr>\n",
       "\t<tr><th scope=col>&lt;chr&gt;</th><th scope=col>&lt;chr&gt;</th></tr>\n",
       "</thead>\n",
       "<tbody>\n",
       "\t<tr><td>AV</td><td>30,280,000</td></tr>\n",
       "\t<tr><td>AS</td><td>31,740,000</td></tr>\n",
       "\t<tr><td>AT</td><td>34,840,000</td></tr>\n",
       "\t<tr><td>AU</td><td>35,610,000</td></tr>\n",
       "\t<tr><td>AO</td><td>39,120,000</td></tr>\n",
       "</tbody>\n",
       "</table>\n"
      ],
      "text/latex": [
       "A tibble: 5 × 2\n",
       "\\begin{tabular}{ll}\n",
       " cabang & total\\_amount\\\\\n",
       " <chr> & <chr>\\\\\n",
       "\\hline\n",
       "\t AV & 30,280,000\\\\\n",
       "\t AS & 31,740,000\\\\\n",
       "\t AT & 34,840,000\\\\\n",
       "\t AU & 35,610,000\\\\\n",
       "\t AO & 39,120,000\\\\\n",
       "\\end{tabular}\n"
      ],
      "text/markdown": [
       "\n",
       "A tibble: 5 × 2\n",
       "\n",
       "| cabang &lt;chr&gt; | total_amount &lt;chr&gt; |\n",
       "|---|---|\n",
       "| AV | 30,280,000 |\n",
       "| AS | 31,740,000 |\n",
       "| AT | 34,840,000 |\n",
       "| AU | 35,610,000 |\n",
       "| AO | 39,120,000 |\n",
       "\n"
      ],
      "text/plain": [
       "  cabang total_amount\n",
       "1 AV     30,280,000  \n",
       "2 AS     31,740,000  \n",
       "3 AT     34,840,000  \n",
       "4 AU     35,610,000  \n",
       "5 AO     39,120,000  "
      ]
     },
     "metadata": {},
     "output_type": "display_data"
    }
   ],
   "source": [
    "#Mengurutkan data total amount dari yang terkecil dengan fungsi arrange\n",
    "df_loan_mei %>% arrange(total_amount) %>% \n",
    "    #menampilkan total amount dalam format comma\n",
    "    mutate(total_amount = comma(total_amount)) %>% \n",
    "    #menampilkan 5 data teratas\n",
    "    head(5)"
   ]
  },
  {
   "cell_type": "markdown",
   "execution_count": null,
   "metadata": {},
   "source": [
    "# Menghitung Umur Cabang (Dalam Bulan)"
   ]
  },
  {
   "cell_type": "code",
   "execution_count": 5,
   "metadata": {},
   "outputs": [
    {
     "name": "stderr",
     "output_type": "stream",
     "text": [
      "`summarise()` ungrouping output (override with `.groups` argument)\n",
      "\n"
     ]
    },
    {
     "name": "stdout",
     "output_type": "stream",
     "text": [
      "\u001b[38;5;246m# A tibble: 22 x 3\u001b[39m\n",
      "   cabang pertama_cair  umur\n",
      "   \u001b[3m\u001b[38;5;246m<chr>\u001b[39m\u001b[23m  \u001b[3m\u001b[38;5;246m<chr>\u001b[39m\u001b[23m        \u001b[3m\u001b[38;5;246m<dbl>\u001b[39m\u001b[23m\n",
      "\u001b[38;5;250m 1\u001b[39m AA     2020-01-06       4\n",
      "\u001b[38;5;250m 2\u001b[39m AB     2020-01-06       4\n",
      "\u001b[38;5;250m 3\u001b[39m AC     2020-01-06       4\n",
      "\u001b[38;5;250m 4\u001b[39m AD     2020-01-06       4\n",
      "\u001b[38;5;250m 5\u001b[39m AE     2020-02-03       3\n",
      "\u001b[38;5;250m 6\u001b[39m AF     2020-02-03       3\n",
      "\u001b[38;5;250m 7\u001b[39m AG     2020-02-03       3\n",
      "\u001b[38;5;250m 8\u001b[39m AH     2020-02-03       3\n",
      "\u001b[38;5;250m 9\u001b[39m AI     2020-03-02       2\n",
      "\u001b[38;5;250m10\u001b[39m AJ     2020-03-02       2\n",
      "\u001b[38;5;246m# … with 12 more rows\u001b[39m\n"
     ]
    }
   ],
   "source": [
    "df_cabang_umur <- df_loan %>% group_by(cabang) %>% \n",
    "    #menghitung tanggal pertama cair dari cabang dengan fungsi min()\n",
    "    summarise(pertama_cair= min(tanggal_cair)) %>% \n",
    "    #membuat variabel umur dengan menghitung umur dari pertama cair sampai tanggal 15 mei 2020\n",
    "    mutate(umur = as.numeric(as.Date('2020-05-15') - as.Date(pertama_cair)) %/% 30)\n",
    "#print df_cabang_umur\n",
    "print(df_cabang_umur)"
   ]
  },
  {
   "cell_type": "markdown",
   "execution_count": null,
   "metadata": {},
   "source": [
    "# Menggabungkan Data Umur dan Performa Cabang untuk Bulan Mei"
   ]
  },
  {
   "cell_type": "code",
   "execution_count": 6,
   "metadata": {},
   "outputs": [
    {
     "data": {
      "text/html": [
       "<table class=\"dataframe\">\n",
       "<caption>A tibble: 22 × 4</caption>\n",
       "<thead>\n",
       "\t<tr><th scope=col>cabang</th><th scope=col>pertama_cair</th><th scope=col>umur</th><th scope=col>total_amount</th></tr>\n",
       "\t<tr><th scope=col>&lt;chr&gt;</th><th scope=col>&lt;chr&gt;</th><th scope=col>&lt;dbl&gt;</th><th scope=col>&lt;int&gt;</th></tr>\n",
       "</thead>\n",
       "<tbody>\n",
       "\t<tr><td>AA</td><td>2020-01-06</td><td>4</td><td>75710000</td></tr>\n",
       "\t<tr><td>AB</td><td>2020-01-06</td><td>4</td><td>81440000</td></tr>\n",
       "\t<tr><td>AC</td><td>2020-01-06</td><td>4</td><td>83990000</td></tr>\n",
       "\t<tr><td>AD</td><td>2020-01-06</td><td>4</td><td>76080000</td></tr>\n",
       "\t<tr><td>AE</td><td>2020-02-03</td><td>3</td><td>54200000</td></tr>\n",
       "\t<tr><td>AF</td><td>2020-02-03</td><td>3</td><td>68040000</td></tr>\n",
       "\t<tr><td>AG</td><td>2020-02-03</td><td>3</td><td>74080000</td></tr>\n",
       "\t<tr><td>AH</td><td>2020-02-03</td><td>3</td><td>73840000</td></tr>\n",
       "\t<tr><td>AI</td><td>2020-03-02</td><td>2</td><td>46640000</td></tr>\n",
       "\t<tr><td>AJ</td><td>2020-03-02</td><td>2</td><td>43580000</td></tr>\n",
       "\t<tr><td>AK</td><td>2020-03-02</td><td>2</td><td>44590000</td></tr>\n",
       "\t<tr><td>AL</td><td>2020-03-02</td><td>2</td><td>40650000</td></tr>\n",
       "\t<tr><td>AM</td><td>2020-03-02</td><td>2</td><td>44010000</td></tr>\n",
       "\t<tr><td>AN</td><td>2020-04-06</td><td>1</td><td>39700000</td></tr>\n",
       "\t<tr><td>AO</td><td>2020-04-06</td><td>1</td><td>39120000</td></tr>\n",
       "\t<tr><td>AP</td><td>2020-04-06</td><td>1</td><td>44740000</td></tr>\n",
       "\t<tr><td>AQ</td><td>2020-04-06</td><td>1</td><td>39190000</td></tr>\n",
       "\t<tr><td>AR</td><td>2020-04-06</td><td>1</td><td>44230000</td></tr>\n",
       "\t<tr><td>AS</td><td>2020-05-04</td><td>0</td><td>31740000</td></tr>\n",
       "\t<tr><td>AT</td><td>2020-05-04</td><td>0</td><td>34840000</td></tr>\n",
       "\t<tr><td>AU</td><td>2020-05-04</td><td>0</td><td>35610000</td></tr>\n",
       "\t<tr><td>AV</td><td>2020-05-04</td><td>0</td><td>30280000</td></tr>\n",
       "</tbody>\n",
       "</table>\n"
      ],
      "text/latex": [
       "A tibble: 22 × 4\n",
       "\\begin{tabular}{llll}\n",
       " cabang & pertama\\_cair & umur & total\\_amount\\\\\n",
       " <chr> & <chr> & <dbl> & <int>\\\\\n",
       "\\hline\n",
       "\t AA & 2020-01-06 & 4 & 75710000\\\\\n",
       "\t AB & 2020-01-06 & 4 & 81440000\\\\\n",
       "\t AC & 2020-01-06 & 4 & 83990000\\\\\n",
       "\t AD & 2020-01-06 & 4 & 76080000\\\\\n",
       "\t AE & 2020-02-03 & 3 & 54200000\\\\\n",
       "\t AF & 2020-02-03 & 3 & 68040000\\\\\n",
       "\t AG & 2020-02-03 & 3 & 74080000\\\\\n",
       "\t AH & 2020-02-03 & 3 & 73840000\\\\\n",
       "\t AI & 2020-03-02 & 2 & 46640000\\\\\n",
       "\t AJ & 2020-03-02 & 2 & 43580000\\\\\n",
       "\t AK & 2020-03-02 & 2 & 44590000\\\\\n",
       "\t AL & 2020-03-02 & 2 & 40650000\\\\\n",
       "\t AM & 2020-03-02 & 2 & 44010000\\\\\n",
       "\t AN & 2020-04-06 & 1 & 39700000\\\\\n",
       "\t AO & 2020-04-06 & 1 & 39120000\\\\\n",
       "\t AP & 2020-04-06 & 1 & 44740000\\\\\n",
       "\t AQ & 2020-04-06 & 1 & 39190000\\\\\n",
       "\t AR & 2020-04-06 & 1 & 44230000\\\\\n",
       "\t AS & 2020-05-04 & 0 & 31740000\\\\\n",
       "\t AT & 2020-05-04 & 0 & 34840000\\\\\n",
       "\t AU & 2020-05-04 & 0 & 35610000\\\\\n",
       "\t AV & 2020-05-04 & 0 & 30280000\\\\\n",
       "\\end{tabular}\n"
      ],
      "text/markdown": [
       "\n",
       "A tibble: 22 × 4\n",
       "\n",
       "| cabang &lt;chr&gt; | pertama_cair &lt;chr&gt; | umur &lt;dbl&gt; | total_amount &lt;int&gt; |\n",
       "|---|---|---|---|\n",
       "| AA | 2020-01-06 | 4 | 75710000 |\n",
       "| AB | 2020-01-06 | 4 | 81440000 |\n",
       "| AC | 2020-01-06 | 4 | 83990000 |\n",
       "| AD | 2020-01-06 | 4 | 76080000 |\n",
       "| AE | 2020-02-03 | 3 | 54200000 |\n",
       "| AF | 2020-02-03 | 3 | 68040000 |\n",
       "| AG | 2020-02-03 | 3 | 74080000 |\n",
       "| AH | 2020-02-03 | 3 | 73840000 |\n",
       "| AI | 2020-03-02 | 2 | 46640000 |\n",
       "| AJ | 2020-03-02 | 2 | 43580000 |\n",
       "| AK | 2020-03-02 | 2 | 44590000 |\n",
       "| AL | 2020-03-02 | 2 | 40650000 |\n",
       "| AM | 2020-03-02 | 2 | 44010000 |\n",
       "| AN | 2020-04-06 | 1 | 39700000 |\n",
       "| AO | 2020-04-06 | 1 | 39120000 |\n",
       "| AP | 2020-04-06 | 1 | 44740000 |\n",
       "| AQ | 2020-04-06 | 1 | 39190000 |\n",
       "| AR | 2020-04-06 | 1 | 44230000 |\n",
       "| AS | 2020-05-04 | 0 | 31740000 |\n",
       "| AT | 2020-05-04 | 0 | 34840000 |\n",
       "| AU | 2020-05-04 | 0 | 35610000 |\n",
       "| AV | 2020-05-04 | 0 | 30280000 |\n",
       "\n"
      ],
      "text/plain": [
       "   cabang pertama_cair umur total_amount\n",
       "1  AA     2020-01-06   4    75710000    \n",
       "2  AB     2020-01-06   4    81440000    \n",
       "3  AC     2020-01-06   4    83990000    \n",
       "4  AD     2020-01-06   4    76080000    \n",
       "5  AE     2020-02-03   3    54200000    \n",
       "6  AF     2020-02-03   3    68040000    \n",
       "7  AG     2020-02-03   3    74080000    \n",
       "8  AH     2020-02-03   3    73840000    \n",
       "9  AI     2020-03-02   2    46640000    \n",
       "10 AJ     2020-03-02   2    43580000    \n",
       "11 AK     2020-03-02   2    44590000    \n",
       "12 AL     2020-03-02   2    40650000    \n",
       "13 AM     2020-03-02   2    44010000    \n",
       "14 AN     2020-04-06   1    39700000    \n",
       "15 AO     2020-04-06   1    39120000    \n",
       "16 AP     2020-04-06   1    44740000    \n",
       "17 AQ     2020-04-06   1    39190000    \n",
       "18 AR     2020-04-06   1    44230000    \n",
       "19 AS     2020-05-04   0    31740000    \n",
       "20 AT     2020-05-04   0    34840000    \n",
       "21 AU     2020-05-04   0    35610000    \n",
       "22 AV     2020-05-04   0    30280000    "
      ]
     },
     "metadata": {},
     "output_type": "display_data"
    }
   ],
   "source": [
    "df_loan_mei_umur <- df_cabang_umur %>% \n",
    "    #join tabel dengan inner join\n",
    "    inner_join(df_loan_mei, by='cabang')\n",
    "#menampilakn data df_loan_mei_umur\n",
    "df_loan_mei_umur"
   ]
  },
  {
   "cell_type": "markdown",
   "execution_count": null,
   "metadata": {},
   "source": [
    "# Plot Relasi Umur dan Performa Mei"
   ]
  },
  {
   "cell_type": "code",
   "execution_count": 7,
   "metadata": {},
   "outputs": [
    {
     "data": {
      "image/png": "[encoded data removed]"
     },
     "metadata": {
      "image/png": {
       "height": 420,
       "width": 420
      }
     },
     "output_type": "display_data"
    }
   ],
   "source": [
    "#Membuat plot data df_loan_mei_umur, dengan sumbu x untuk umur dan y untuk total amount\n",
    "ggplot(df_loan_mei_umur, aes(x = umur, y = total_amount, color=cabang)) +\n",
    "  #Untuk menggambar grafik berupa titik yang menunjukkan hubungan antar variable atau scatter plot\n",
    "  geom_point() +\n",
    "  #membuat sumbu y bernilai comma\n",
    "  scale_y_continuous(labels = scales::comma) +\n",
    "  #Menempatkan judul di tengah plot\n",
    "  theme(plot.title = element_text(hjust=0.5)) +\n",
    "  #Merubah label plot\n",
    "  labs(title = \"Semakin berumur, perfoma cabang akan semakin baik\",\n",
    "       x = \"Umur (bulan)\",\n",
    "       y = \"Total Amount\",\n",
    "       color=\"Cabang\")"
   ]
  },
  {
   "cell_type": "markdown",
   "execution_count": null,
   "metadata": {},
   "source": [
    "# Mencari Cabang yang Perfoma Rendah"
   ]
  },
  {
   "cell_type": "code",
   "execution_count": 8,
   "metadata": {},
   "outputs": [
    {
     "name": "stderr",
     "output_type": "stream",
     "text": [
      "`mutate_if()` ignored the following grouping variables:\n",
      "Column `umur`\n",
      "\n",
      "Warning message:\n",
      "“`funs()` is deprecated as of dplyr 0.8.0.\n",
      "Please use a list of either functions or lambdas: \n",
      "\n",
      "  # Simple named list: \n",
      "  list(mean = mean, median = median)\n",
      "\n",
      "  # Auto named with `tibble::lst()`: \n",
      "  tibble::lst(mean, median)\n",
      "\n",
      "  # Using lambdas\n",
      "  list(~ mean(., trim = .2), ~ median(., na.rm = TRUE))\n",
      "\u001b[90mThis warning is displayed once every 8 hours.\u001b[39m\n",
      "\u001b[90mCall `lifecycle::last_warnings()` to see where this warning was generated.\u001b[39m”\n"
     ]
    },
    {
     "data": {
      "text/html": [
       "<table class=\"dataframe\">\n",
       "<caption>A grouped_df: 2 × 8</caption>\n",
       "<thead>\n",
       "\t<tr><th scope=col>cabang</th><th scope=col>pertama_cair</th><th scope=col>umur</th><th scope=col>total_amount</th><th scope=col>Q1</th><th scope=col>Q3</th><th scope=col>IQR</th><th scope=col>flag</th></tr>\n",
       "\t<tr><th scope=col>&lt;chr&gt;</th><th scope=col>&lt;chr&gt;</th><th scope=col>&lt;dbl&gt;</th><th scope=col>&lt;chr&gt;</th><th scope=col>&lt;chr&gt;</th><th scope=col>&lt;chr&gt;</th><th scope=col>&lt;chr&gt;</th><th scope=col>&lt;chr&gt;</th></tr>\n",
       "</thead>\n",
       "<tbody>\n",
       "\t<tr><td>AE</td><td>2020-02-03</td><td>3</td><td>54,200,000</td><td>64,580,000</td><td>73,900,000</td><td>9,320,000</td><td>rendah</td></tr>\n",
       "\t<tr><td>AL</td><td>2020-03-02</td><td>2</td><td>40,650,000</td><td>43,580,000</td><td>44,590,000</td><td>1,010,000</td><td>rendah</td></tr>\n",
       "</tbody>\n",
       "</table>\n"
      ],
      "text/latex": [
       "A grouped\\_df: 2 × 8\n",
       "\\begin{tabular}{llllllll}\n",
       " cabang & pertama\\_cair & umur & total\\_amount & Q1 & Q3 & IQR & flag\\\\\n",
       " <chr> & <chr> & <dbl> & <chr> & <chr> & <chr> & <chr> & <chr>\\\\\n",
       "\\hline\n",
       "\t AE & 2020-02-03 & 3 & 54,200,000 & 64,580,000 & 73,900,000 & 9,320,000 & rendah\\\\\n",
       "\t AL & 2020-03-02 & 2 & 40,650,000 & 43,580,000 & 44,590,000 & 1,010,000 & rendah\\\\\n",
       "\\end{tabular}\n"
      ],
      "text/markdown": [
       "\n",
       "A grouped_df: 2 × 8\n",
       "\n",
       "| cabang &lt;chr&gt; | pertama_cair &lt;chr&gt; | umur &lt;dbl&gt; | total_amount &lt;chr&gt; | Q1 &lt;chr&gt; | Q3 &lt;chr&gt; | IQR &lt;chr&gt; | flag &lt;chr&gt; |\n",
       "|---|---|---|---|---|---|---|---|\n",
       "| AE | 2020-02-03 | 3 | 54,200,000 | 64,580,000 | 73,900,000 | 9,320,000 | rendah |\n",
       "| AL | 2020-03-02 | 2 | 40,650,000 | 43,580,000 | 44,590,000 | 1,010,000 | rendah |\n",
       "\n"
      ],
      "text/plain": [
       "  cabang pertama_cair umur total_amount Q1         Q3         IQR       flag  \n",
       "1 AE     2020-02-03   3    54,200,000   64,580,000 73,900,000 9,320,000 rendah\n",
       "2 AL     2020-03-02   2    40,650,000   43,580,000 44,590,000 1,010,000 rendah"
      ]
     },
     "metadata": {},
     "output_type": "display_data"
    }
   ],
   "source": [
    "df_loan_mei_flag <- df_loan_mei_umur %>% group_by(umur) %>% \n",
    "  #Membuat variabel baru dan menghitung nilai Quartile dan Inter Quartile Range \n",
    "  mutate(Q1=quantile(total_amount,0.25), Q3=quantile(total_amount,0.75), IQR=(Q3-Q1)) %>% \n",
    "  #Membuat variabel flag dan menentukan nilai performanya jika kurang dari (Q1 - IQR) makan 'rendah' dan 'baik' untuk selain itu\n",
    "  mutate(flag=ifelse(total_amount<(Q1-IQR),'rendah', 'baik'))\n",
    "#Memfilter nilai peforma cabang yang rendah\n",
    "df_loan_mei_flag %>% filter(flag == 'rendah') %>% \n",
    "  #Mengubah kolom numeric menjadi comma dengan fungsi mutate_if\n",
    "  mutate_if(is.numeric, funs(comma))"
   ]
  },
  {
   "cell_type": "markdown",
   "execution_count": null,
   "metadata": {},
   "source": [
    "# Scatterplot untuk Cabang yang Rendah Peformanya"
   ]
  },
  {
   "cell_type": "code",
   "execution_count": 9,
   "metadata": {},
   "outputs": [
    {
     "data": {
      "image/png": "[encoded data removed]"
     },
     "metadata": {
      "image/png": {
       "height": 420,
       "width": 420
      }
     },
     "output_type": "display_data"
    }
   ],
   "source": [
    "#Membuat plot untuk melihat performa cabang\n",
    "ggplot(df_loan_mei_flag, aes(x = umur, y = total_amount)) +\n",
    "  geom_point(aes(color = flag)) +\n",
    "  scale_color_manual(breaks = c(\"baik\", \"rendah\"),\n",
    "                        values=c(\"blue\", \"red\")) +\n",
    "  scale_y_continuous(labels = scales::comma) +\n",
    "  labs(title = \"Ada cabang berpeforma rendah padahal tidak termasuk bottom 5 nasional\",\n",
    "       color = \"\",\n",
    "       x = \"Umur (bulan)\",\n",
    "       y = \"Total Amount\")"
   ]
  },
  {
   "cell_type": "markdown",
   "execution_count": null,
   "metadata": {},
   "source": [
    "# Melihat perbadingan performa cabang di umur yang sama"
   ]
  },
  {
   "cell_type": "code",
   "execution_count": 10,
   "metadata": {},
   "outputs": [
    {
     "name": "stderr",
     "output_type": "stream",
     "text": [
      "`summarise()` regrouping output by 'cabang' (override with `.groups` argument)\n",
      "\n",
      "`mutate_if()` ignored the following grouping variables:\n",
      "Column `cabang`\n",
      "\n"
     ]
    },
    {
     "data": {
      "text/html": [
       "<table class=\"dataframe\">\n",
       "<caption>A grouped_df: 4 × 7</caption>\n",
       "<thead>\n",
       "\t<tr><th scope=col>cabang</th><th scope=col>flag</th><th scope=col>jumlah_hari</th><th scope=col>agen_aktif</th><th scope=col>total_loan_cair</th><th scope=col>avg_amount</th><th scope=col>total_amount</th></tr>\n",
       "\t<tr><th scope=col>&lt;chr&gt;</th><th scope=col>&lt;chr&gt;</th><th scope=col>&lt;chr&gt;</th><th scope=col>&lt;chr&gt;</th><th scope=col>&lt;chr&gt;</th><th scope=col>&lt;chr&gt;</th><th scope=col>&lt;chr&gt;</th></tr>\n",
       "</thead>\n",
       "<tbody>\n",
       "\t<tr><td>AE</td><td>rendah</td><td>21</td><td>3</td><td>175</td><td>309,714</td><td>54,200,000</td></tr>\n",
       "\t<tr><td>AF</td><td>baik  </td><td>21</td><td>3</td><td>225</td><td>302,400</td><td>68,040,000</td></tr>\n",
       "\t<tr><td>AH</td><td>baik  </td><td>21</td><td>3</td><td>241</td><td>306,390</td><td>73,840,000</td></tr>\n",
       "\t<tr><td>AG</td><td>baik  </td><td>21</td><td>3</td><td>241</td><td>307,386</td><td>74,080,000</td></tr>\n",
       "</tbody>\n",
       "</table>\n"
      ],
      "text/latex": [
       "A grouped\\_df: 4 × 7\n",
       "\\begin{tabular}{lllllll}\n",
       " cabang & flag & jumlah\\_hari & agen\\_aktif & total\\_loan\\_cair & avg\\_amount & total\\_amount\\\\\n",
       " <chr> & <chr> & <chr> & <chr> & <chr> & <chr> & <chr>\\\\\n",
       "\\hline\n",
       "\t AE & rendah & 21 & 3 & 175 & 309,714 & 54,200,000\\\\\n",
       "\t AF & baik   & 21 & 3 & 225 & 302,400 & 68,040,000\\\\\n",
       "\t AH & baik   & 21 & 3 & 241 & 306,390 & 73,840,000\\\\\n",
       "\t AG & baik   & 21 & 3 & 241 & 307,386 & 74,080,000\\\\\n",
       "\\end{tabular}\n"
      ],
      "text/markdown": [
       "\n",
       "A grouped_df: 4 × 7\n",
       "\n",
       "| cabang &lt;chr&gt; | flag &lt;chr&gt; | jumlah_hari &lt;chr&gt; | agen_aktif &lt;chr&gt; | total_loan_cair &lt;chr&gt; | avg_amount &lt;chr&gt; | total_amount &lt;chr&gt; |\n",
       "|---|---|---|---|---|---|---|\n",
       "| AE | rendah | 21 | 3 | 175 | 309,714 | 54,200,000 |\n",
       "| AF | baik   | 21 | 3 | 225 | 302,400 | 68,040,000 |\n",
       "| AH | baik   | 21 | 3 | 241 | 306,390 | 73,840,000 |\n",
       "| AG | baik   | 21 | 3 | 241 | 307,386 | 74,080,000 |\n",
       "\n"
      ],
      "text/plain": [
       "  cabang flag   jumlah_hari agen_aktif total_loan_cair avg_amount total_amount\n",
       "1 AE     rendah 21          3          175             309,714    54,200,000  \n",
       "2 AF     baik   21          3          225             302,400    68,040,000  \n",
       "3 AH     baik   21          3          241             306,390    73,840,000  \n",
       "4 AG     baik   21          3          241             307,386    74,080,000  "
      ]
     },
     "metadata": {},
     "output_type": "display_data"
    }
   ],
   "source": [
    "df_loan_mei_flag %>% \n",
    "  #Memfilter umur 3 bulan\n",
    "  filter(umur == 3) %>% \n",
    "  #inner join dengan data df_loan\n",
    "  inner_join(df_loan, by = 'cabang') %>% \n",
    "  #memfilter tanggal untuk bulan mei\n",
    "  filter(tanggal_cair >= '2020-05-01', tanggal_cair <= '2020-05-31') %>% \n",
    "  #Group by cabang dan flag\n",
    "  group_by(cabang, flag) %>% \n",
    "  #menghitung jumlah data yang berbeda dengan fungsu n_distinct, menghitung sum dan mean pada amount\n",
    "  summarise(jumlah_hari = n_distinct(tanggal_cair),\n",
    "            agen_aktif = n_distinct(agen),\n",
    "            total_loan_cair = n_distinct(loan_id),\n",
    "            avg_amount = mean(amount), \n",
    "            total_amount = sum(amount)) %>% \n",
    "  #mengurutkan data total_amount\n",
    "  arrange(total_amount) %>% \n",
    "  #Mengubah kolom numeric menjadi comma dengan fungsi mutate_if\n",
    "  mutate_if(is.numeric, funs(comma))"
   ]
  },
  {
   "cell_type": "markdown",
   "execution_count": null,
   "metadata": {},
   "source": [
    "# Melihat Perbadingan Performa Agen pada Cabang yang Rendah"
   ]
  },
  {
   "cell_type": "code",
   "execution_count": 11,
   "metadata": {},
   "outputs": [
    {
     "name": "stderr",
     "output_type": "stream",
     "text": [
      "`summarise()` regrouping output by 'cabang' (override with `.groups` argument)\n",
      "\n",
      "`mutate_if()` ignored the following grouping variables:\n",
      "Column `cabang`\n",
      "\n"
     ]
    },
    {
     "data": {
      "text/html": [
       "<table class=\"dataframe\">\n",
       "<caption>A grouped_df: 3 × 6</caption>\n",
       "<thead>\n",
       "\t<tr><th scope=col>cabang</th><th scope=col>agen</th><th scope=col>jumlah_hari</th><th scope=col>total_loan_cair</th><th scope=col>avg_amount</th><th scope=col>total_amount</th></tr>\n",
       "\t<tr><th scope=col>&lt;chr&gt;</th><th scope=col>&lt;chr&gt;</th><th scope=col>&lt;chr&gt;</th><th scope=col>&lt;chr&gt;</th><th scope=col>&lt;chr&gt;</th><th scope=col>&lt;chr&gt;</th></tr>\n",
       "</thead>\n",
       "<tbody>\n",
       "\t<tr><td>AE</td><td>AE-3</td><td>4.0 </td><td>16</td><td>310,625</td><td>4,970,000 </td></tr>\n",
       "\t<tr><td>AE</td><td>AE-2</td><td>18.0</td><td>73</td><td>320,274</td><td>23,380,000</td></tr>\n",
       "\t<tr><td>AE</td><td>AE-1</td><td>21.0</td><td>86</td><td>300,581</td><td>25,850,000</td></tr>\n",
       "</tbody>\n",
       "</table>\n"
      ],
      "text/latex": [
       "A grouped\\_df: 3 × 6\n",
       "\\begin{tabular}{llllll}\n",
       " cabang & agen & jumlah\\_hari & total\\_loan\\_cair & avg\\_amount & total\\_amount\\\\\n",
       " <chr> & <chr> & <chr> & <chr> & <chr> & <chr>\\\\\n",
       "\\hline\n",
       "\t AE & AE-3 & 4.0  & 16 & 310,625 & 4,970,000 \\\\\n",
       "\t AE & AE-2 & 18.0 & 73 & 320,274 & 23,380,000\\\\\n",
       "\t AE & AE-1 & 21.0 & 86 & 300,581 & 25,850,000\\\\\n",
       "\\end{tabular}\n"
      ],
      "text/markdown": [
       "\n",
       "A grouped_df: 3 × 6\n",
       "\n",
       "| cabang &lt;chr&gt; | agen &lt;chr&gt; | jumlah_hari &lt;chr&gt; | total_loan_cair &lt;chr&gt; | avg_amount &lt;chr&gt; | total_amount &lt;chr&gt; |\n",
       "|---|---|---|---|---|---|\n",
       "| AE | AE-3 | 4.0  | 16 | 310,625 | 4,970,000  |\n",
       "| AE | AE-2 | 18.0 | 73 | 320,274 | 23,380,000 |\n",
       "| AE | AE-1 | 21.0 | 86 | 300,581 | 25,850,000 |\n",
       "\n"
      ],
      "text/plain": [
       "  cabang agen jumlah_hari total_loan_cair avg_amount total_amount\n",
       "1 AE     AE-3 4.0         16              310,625    4,970,000   \n",
       "2 AE     AE-2 18.0        73              320,274    23,380,000  \n",
       "3 AE     AE-1 21.0        86              300,581    25,850,000  "
      ]
     },
     "metadata": {},
     "output_type": "display_data"
    }
   ],
   "source": [
    "df_loan_mei_flag %>% \n",
    "  #Memfilter umur 3 bulan dan flag rendah\n",
    "  filter(umur == 3, flag == 'rendah') %>%\n",
    "  #inner join dengan data df_loan\n",
    "  inner_join(df_loan, by = 'cabang') %>% \n",
    "  #memfilter tanggal untuk bulan mei\n",
    "  filter(tanggal_cair >= '2020-05-01', tanggal_cair <= '2020-05-31') %>% \n",
    "  #Group by cabang dan agen\n",
    "  group_by(cabang, agen) %>% \n",
    "  #menghitung jumlah data yang berbeda dengan fungsi n_distinct, menghitung sum dan mean pada amount\n",
    "  summarise(jumlah_hari = n_distinct(tanggal_cair),\n",
    "            total_loan_cair = n_distinct(loan_id),\n",
    "            avg_amount = mean(amount), \n",
    "            total_amount = sum(amount)) %>% \n",
    "  #mengurutkan data total_amount\n",
    "  arrange(total_amount) %>% \n",
    "  #Mengubah kolom numeric menjadi comma dengan fungsi mutate_if\n",
    "  mutate_if(is.numeric, funs(comma))"
   ]
  },
  {
   "cell_type": "markdown",
   "execution_count": null,
   "metadata": {},
   "source": [
    "# Melihat Perbadingan Performa Agen pada Cabang yang Paling Baik"
   ]
  },
  {
   "cell_type": "code",
   "execution_count": 12,
   "metadata": {},
   "outputs": [
    {
     "name": "stderr",
     "output_type": "stream",
     "text": [
      "`summarise()` regrouping output by 'cabang' (override with `.groups` argument)\n",
      "\n",
      "`mutate_if()` ignored the following grouping variables:\n",
      "Column `cabang`\n",
      "\n"
     ]
    },
    {
     "data": {
      "text/html": [
       "<table class=\"dataframe\">\n",
       "<caption>A grouped_df: 3 × 6</caption>\n",
       "<thead>\n",
       "\t<tr><th scope=col>cabang</th><th scope=col>agen</th><th scope=col>jumlah_hari</th><th scope=col>total_loan_cair</th><th scope=col>avg_amount</th><th scope=col>total_amount</th></tr>\n",
       "\t<tr><th scope=col>&lt;chr&gt;</th><th scope=col>&lt;chr&gt;</th><th scope=col>&lt;chr&gt;</th><th scope=col>&lt;chr&gt;</th><th scope=col>&lt;chr&gt;</th><th scope=col>&lt;chr&gt;</th></tr>\n",
       "</thead>\n",
       "<tbody>\n",
       "\t<tr><td>AH</td><td>AH-3</td><td>19.0</td><td>74.0</td><td>303,649</td><td>22,470,000</td></tr>\n",
       "\t<tr><td>AH</td><td>AH-1</td><td>21.0</td><td>81.0</td><td>301,358</td><td>24,410,000</td></tr>\n",
       "\t<tr><td>AH</td><td>AH-2</td><td>21.0</td><td>86.0</td><td>313,488</td><td>26,960,000</td></tr>\n",
       "</tbody>\n",
       "</table>\n"
      ],
      "text/latex": [
       "A grouped\\_df: 3 × 6\n",
       "\\begin{tabular}{llllll}\n",
       " cabang & agen & jumlah\\_hari & total\\_loan\\_cair & avg\\_amount & total\\_amount\\\\\n",
       " <chr> & <chr> & <chr> & <chr> & <chr> & <chr>\\\\\n",
       "\\hline\n",
       "\t AH & AH-3 & 19.0 & 74.0 & 303,649 & 22,470,000\\\\\n",
       "\t AH & AH-1 & 21.0 & 81.0 & 301,358 & 24,410,000\\\\\n",
       "\t AH & AH-2 & 21.0 & 86.0 & 313,488 & 26,960,000\\\\\n",
       "\\end{tabular}\n"
      ],
      "text/markdown": [
       "\n",
       "A grouped_df: 3 × 6\n",
       "\n",
       "| cabang &lt;chr&gt; | agen &lt;chr&gt; | jumlah_hari &lt;chr&gt; | total_loan_cair &lt;chr&gt; | avg_amount &lt;chr&gt; | total_amount &lt;chr&gt; |\n",
       "|---|---|---|---|---|---|\n",
       "| AH | AH-3 | 19.0 | 74.0 | 303,649 | 22,470,000 |\n",
       "| AH | AH-1 | 21.0 | 81.0 | 301,358 | 24,410,000 |\n",
       "| AH | AH-2 | 21.0 | 86.0 | 313,488 | 26,960,000 |\n",
       "\n"
      ],
      "text/plain": [
       "  cabang agen jumlah_hari total_loan_cair avg_amount total_amount\n",
       "1 AH     AH-3 19.0        74.0            303,649    22,470,000  \n",
       "2 AH     AH-1 21.0        81.0            301,358    24,410,000  \n",
       "3 AH     AH-2 21.0        86.0            313,488    26,960,000  "
      ]
     },
     "metadata": {},
     "output_type": "display_data"
    }
   ],
   "source": [
    "df_loan %>% \n",
    "  #Memfilter untuk menampilkan dabang 'AH'\n",
    "  filter(cabang == 'AH') %>% \n",
    "  #memfilter tanggal untuk bulan mei\n",
    "  filter(tanggal_cair >= '2020-05-01', tanggal_cair <= '2020-05-31') %>% \n",
    "  #Group by cabang dan agen\n",
    "  group_by(cabang, agen) %>% \n",
    "  #menghitung jumlah data yang berbeda dengan fungsi n_distinct, menghitung sum dan mean pada amount\n",
    "  summarise(jumlah_hari = n_distinct(tanggal_cair),\n",
    "            total_loan_cair = n_distinct(loan_id),\n",
    "            avg_amount = mean(amount), \n",
    "            total_amount = sum(amount)) %>% \n",
    "  #mengurutkan data total_amount\n",
    "  arrange(total_amount) %>% \n",
    "  #Mengubah kolom numeric menjadi comma dengan fungsi mutate_if\n",
    "  mutate_if(is.numeric, funs(comma))"
   ]
  }
 ],
 "metadata": {
  "kernelspec": {
   "display_name": "R",
   "language": "R",
   "name": "ir"
  },
  "language_info": {
   "codemirror_mode": "r",
   "file_extension": ".r",
   "mimetype": "text/x-r-source",
   "name": "R",
   "pygments_lexer": "r",
   "version": "3.6.3"
  }
 },
 "nbformat": 4,
 "nbformat_minor": 4
}
